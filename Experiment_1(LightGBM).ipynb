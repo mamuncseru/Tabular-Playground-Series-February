{
 "cells": [
  {
   "cell_type": "code",
   "execution_count": 14,
   "metadata": {},
   "outputs": [],
   "source": [
    "import pandas as pd\n",
    "import numpy as np\n",
    "import matplotlib.pyplot as plt\n",
    "\n",
    "from sklearn.model_selection import train_test_split\n",
    "import lightgbm as lgbm\n"
   ]
  },
  {
   "cell_type": "code",
   "execution_count": 2,
   "metadata": {},
   "outputs": [
    {
     "data": {
      "text/plain": [
       "(300000, 26)"
      ]
     },
     "execution_count": 2,
     "metadata": {},
     "output_type": "execute_result"
    }
   ],
   "source": [
    "data = pd.read_csv('data/train.csv')\n",
    "data.shape"
   ]
  },
  {
   "cell_type": "code",
   "execution_count": 3,
   "metadata": {},
   "outputs": [
    {
     "data": {
      "text/html": [
       "<div>\n",
       "<style scoped>\n",
       "    .dataframe tbody tr th:only-of-type {\n",
       "        vertical-align: middle;\n",
       "    }\n",
       "\n",
       "    .dataframe tbody tr th {\n",
       "        vertical-align: top;\n",
       "    }\n",
       "\n",
       "    .dataframe thead th {\n",
       "        text-align: right;\n",
       "    }\n",
       "</style>\n",
       "<table border=\"1\" class=\"dataframe\">\n",
       "  <thead>\n",
       "    <tr style=\"text-align: right;\">\n",
       "      <th></th>\n",
       "      <th>id</th>\n",
       "      <th>cat0</th>\n",
       "      <th>cat1</th>\n",
       "      <th>cat2</th>\n",
       "      <th>cat3</th>\n",
       "      <th>cat4</th>\n",
       "      <th>cat5</th>\n",
       "      <th>cat6</th>\n",
       "      <th>cat7</th>\n",
       "      <th>cat8</th>\n",
       "      <th>...</th>\n",
       "      <th>cont5</th>\n",
       "      <th>cont6</th>\n",
       "      <th>cont7</th>\n",
       "      <th>cont8</th>\n",
       "      <th>cont9</th>\n",
       "      <th>cont10</th>\n",
       "      <th>cont11</th>\n",
       "      <th>cont12</th>\n",
       "      <th>cont13</th>\n",
       "      <th>target</th>\n",
       "    </tr>\n",
       "  </thead>\n",
       "  <tbody>\n",
       "    <tr>\n",
       "      <th>0</th>\n",
       "      <td>1</td>\n",
       "      <td>A</td>\n",
       "      <td>B</td>\n",
       "      <td>A</td>\n",
       "      <td>A</td>\n",
       "      <td>B</td>\n",
       "      <td>D</td>\n",
       "      <td>A</td>\n",
       "      <td>E</td>\n",
       "      <td>C</td>\n",
       "      <td>...</td>\n",
       "      <td>0.881122</td>\n",
       "      <td>0.421650</td>\n",
       "      <td>0.741413</td>\n",
       "      <td>0.895799</td>\n",
       "      <td>0.802461</td>\n",
       "      <td>0.724417</td>\n",
       "      <td>0.701915</td>\n",
       "      <td>0.877618</td>\n",
       "      <td>0.719903</td>\n",
       "      <td>6.994023</td>\n",
       "    </tr>\n",
       "    <tr>\n",
       "      <th>1</th>\n",
       "      <td>2</td>\n",
       "      <td>B</td>\n",
       "      <td>A</td>\n",
       "      <td>A</td>\n",
       "      <td>A</td>\n",
       "      <td>B</td>\n",
       "      <td>B</td>\n",
       "      <td>A</td>\n",
       "      <td>E</td>\n",
       "      <td>A</td>\n",
       "      <td>...</td>\n",
       "      <td>0.440011</td>\n",
       "      <td>0.346230</td>\n",
       "      <td>0.278495</td>\n",
       "      <td>0.593413</td>\n",
       "      <td>0.546056</td>\n",
       "      <td>0.613252</td>\n",
       "      <td>0.741289</td>\n",
       "      <td>0.326679</td>\n",
       "      <td>0.808464</td>\n",
       "      <td>8.071256</td>\n",
       "    </tr>\n",
       "    <tr>\n",
       "      <th>2</th>\n",
       "      <td>3</td>\n",
       "      <td>A</td>\n",
       "      <td>A</td>\n",
       "      <td>A</td>\n",
       "      <td>C</td>\n",
       "      <td>B</td>\n",
       "      <td>D</td>\n",
       "      <td>A</td>\n",
       "      <td>B</td>\n",
       "      <td>C</td>\n",
       "      <td>...</td>\n",
       "      <td>0.914155</td>\n",
       "      <td>0.369602</td>\n",
       "      <td>0.832564</td>\n",
       "      <td>0.865620</td>\n",
       "      <td>0.825251</td>\n",
       "      <td>0.264104</td>\n",
       "      <td>0.695561</td>\n",
       "      <td>0.869133</td>\n",
       "      <td>0.828352</td>\n",
       "      <td>5.760456</td>\n",
       "    </tr>\n",
       "    <tr>\n",
       "      <th>3</th>\n",
       "      <td>4</td>\n",
       "      <td>A</td>\n",
       "      <td>A</td>\n",
       "      <td>A</td>\n",
       "      <td>C</td>\n",
       "      <td>B</td>\n",
       "      <td>D</td>\n",
       "      <td>A</td>\n",
       "      <td>E</td>\n",
       "      <td>G</td>\n",
       "      <td>...</td>\n",
       "      <td>0.934138</td>\n",
       "      <td>0.578930</td>\n",
       "      <td>0.407313</td>\n",
       "      <td>0.868099</td>\n",
       "      <td>0.794402</td>\n",
       "      <td>0.494269</td>\n",
       "      <td>0.698125</td>\n",
       "      <td>0.809799</td>\n",
       "      <td>0.614766</td>\n",
       "      <td>7.806457</td>\n",
       "    </tr>\n",
       "    <tr>\n",
       "      <th>4</th>\n",
       "      <td>6</td>\n",
       "      <td>A</td>\n",
       "      <td>B</td>\n",
       "      <td>A</td>\n",
       "      <td>A</td>\n",
       "      <td>B</td>\n",
       "      <td>B</td>\n",
       "      <td>A</td>\n",
       "      <td>E</td>\n",
       "      <td>C</td>\n",
       "      <td>...</td>\n",
       "      <td>0.382600</td>\n",
       "      <td>0.705940</td>\n",
       "      <td>0.325193</td>\n",
       "      <td>0.440967</td>\n",
       "      <td>0.462146</td>\n",
       "      <td>0.724447</td>\n",
       "      <td>0.683073</td>\n",
       "      <td>0.343457</td>\n",
       "      <td>0.297743</td>\n",
       "      <td>6.868974</td>\n",
       "    </tr>\n",
       "  </tbody>\n",
       "</table>\n",
       "<p>5 rows × 26 columns</p>\n",
       "</div>"
      ],
      "text/plain": [
       "   id cat0 cat1 cat2 cat3 cat4 cat5 cat6 cat7 cat8  ...     cont5     cont6  \\\n",
       "0   1    A    B    A    A    B    D    A    E    C  ...  0.881122  0.421650   \n",
       "1   2    B    A    A    A    B    B    A    E    A  ...  0.440011  0.346230   \n",
       "2   3    A    A    A    C    B    D    A    B    C  ...  0.914155  0.369602   \n",
       "3   4    A    A    A    C    B    D    A    E    G  ...  0.934138  0.578930   \n",
       "4   6    A    B    A    A    B    B    A    E    C  ...  0.382600  0.705940   \n",
       "\n",
       "      cont7     cont8     cont9    cont10    cont11    cont12    cont13  \\\n",
       "0  0.741413  0.895799  0.802461  0.724417  0.701915  0.877618  0.719903   \n",
       "1  0.278495  0.593413  0.546056  0.613252  0.741289  0.326679  0.808464   \n",
       "2  0.832564  0.865620  0.825251  0.264104  0.695561  0.869133  0.828352   \n",
       "3  0.407313  0.868099  0.794402  0.494269  0.698125  0.809799  0.614766   \n",
       "4  0.325193  0.440967  0.462146  0.724447  0.683073  0.343457  0.297743   \n",
       "\n",
       "     target  \n",
       "0  6.994023  \n",
       "1  8.071256  \n",
       "2  5.760456  \n",
       "3  7.806457  \n",
       "4  6.868974  \n",
       "\n",
       "[5 rows x 26 columns]"
      ]
     },
     "execution_count": 3,
     "metadata": {},
     "output_type": "execute_result"
    }
   ],
   "source": [
    "data.head()"
   ]
  },
  {
   "cell_type": "code",
   "execution_count": 4,
   "metadata": {},
   "outputs": [
    {
     "data": {
      "text/plain": [
       "(300000, 72)"
      ]
     },
     "execution_count": 4,
     "metadata": {},
     "output_type": "execute_result"
    }
   ],
   "source": [
    "data = pd.get_dummies(data)\n",
    "data.shape"
   ]
  },
  {
   "cell_type": "code",
   "execution_count": 5,
   "metadata": {},
   "outputs": [
    {
     "name": "stdout",
     "output_type": "stream",
     "text": [
      "<class 'pandas.core.frame.DataFrame'>\n",
      "RangeIndex: 300000 entries, 0 to 299999\n",
      "Data columns (total 72 columns):\n",
      "id        300000 non-null int64\n",
      "cont0     300000 non-null float64\n",
      "cont1     300000 non-null float64\n",
      "cont2     300000 non-null float64\n",
      "cont3     300000 non-null float64\n",
      "cont4     300000 non-null float64\n",
      "cont5     300000 non-null float64\n",
      "cont6     300000 non-null float64\n",
      "cont7     300000 non-null float64\n",
      "cont8     300000 non-null float64\n",
      "cont9     300000 non-null float64\n",
      "cont10    300000 non-null float64\n",
      "cont11    300000 non-null float64\n",
      "cont12    300000 non-null float64\n",
      "cont13    300000 non-null float64\n",
      "target    300000 non-null float64\n",
      "cat0_A    300000 non-null uint8\n",
      "cat0_B    300000 non-null uint8\n",
      "cat1_A    300000 non-null uint8\n",
      "cat1_B    300000 non-null uint8\n",
      "cat2_A    300000 non-null uint8\n",
      "cat2_B    300000 non-null uint8\n",
      "cat3_A    300000 non-null uint8\n",
      "cat3_B    300000 non-null uint8\n",
      "cat3_C    300000 non-null uint8\n",
      "cat3_D    300000 non-null uint8\n",
      "cat4_A    300000 non-null uint8\n",
      "cat4_B    300000 non-null uint8\n",
      "cat4_C    300000 non-null uint8\n",
      "cat4_D    300000 non-null uint8\n",
      "cat5_A    300000 non-null uint8\n",
      "cat5_B    300000 non-null uint8\n",
      "cat5_C    300000 non-null uint8\n",
      "cat5_D    300000 non-null uint8\n",
      "cat6_A    300000 non-null uint8\n",
      "cat6_B    300000 non-null uint8\n",
      "cat6_C    300000 non-null uint8\n",
      "cat6_D    300000 non-null uint8\n",
      "cat6_E    300000 non-null uint8\n",
      "cat6_G    300000 non-null uint8\n",
      "cat6_H    300000 non-null uint8\n",
      "cat6_I    300000 non-null uint8\n",
      "cat7_A    300000 non-null uint8\n",
      "cat7_B    300000 non-null uint8\n",
      "cat7_C    300000 non-null uint8\n",
      "cat7_D    300000 non-null uint8\n",
      "cat7_E    300000 non-null uint8\n",
      "cat7_F    300000 non-null uint8\n",
      "cat7_G    300000 non-null uint8\n",
      "cat7_I    300000 non-null uint8\n",
      "cat8_A    300000 non-null uint8\n",
      "cat8_B    300000 non-null uint8\n",
      "cat8_C    300000 non-null uint8\n",
      "cat8_D    300000 non-null uint8\n",
      "cat8_E    300000 non-null uint8\n",
      "cat8_F    300000 non-null uint8\n",
      "cat8_G    300000 non-null uint8\n",
      "cat9_A    300000 non-null uint8\n",
      "cat9_B    300000 non-null uint8\n",
      "cat9_C    300000 non-null uint8\n",
      "cat9_D    300000 non-null uint8\n",
      "cat9_E    300000 non-null uint8\n",
      "cat9_F    300000 non-null uint8\n",
      "cat9_G    300000 non-null uint8\n",
      "cat9_H    300000 non-null uint8\n",
      "cat9_I    300000 non-null uint8\n",
      "cat9_J    300000 non-null uint8\n",
      "cat9_K    300000 non-null uint8\n",
      "cat9_L    300000 non-null uint8\n",
      "cat9_M    300000 non-null uint8\n",
      "cat9_N    300000 non-null uint8\n",
      "cat9_O    300000 non-null uint8\n",
      "dtypes: float64(15), int64(1), uint8(56)\n",
      "memory usage: 52.6 MB\n"
     ]
    }
   ],
   "source": [
    "data.info()"
   ]
  },
  {
   "cell_type": "code",
   "execution_count": 6,
   "metadata": {},
   "outputs": [
    {
     "name": "stdout",
     "output_type": "stream",
     "text": [
      "(300000,) (300000, 71)\n"
     ]
    }
   ],
   "source": [
    "Y = data['target']\n",
    "X = data.drop(['target'], axis=1)\n",
    "print(Y.shape, X.shape)"
   ]
  },
  {
   "cell_type": "code",
   "execution_count": 7,
   "metadata": {},
   "outputs": [
    {
     "name": "stdout",
     "output_type": "stream",
     "text": [
      "(270000, 71) (30000, 71)\n"
     ]
    }
   ],
   "source": [
    "X_train, X_test, Y_train, Y_test = train_test_split(X, Y, test_size=0.1, random_state=2021, shuffle=True)\n",
    "print(X_train.shape, X_test.shape)"
   ]
  },
  {
   "cell_type": "code",
   "execution_count": 8,
   "metadata": {},
   "outputs": [
    {
     "name": "stdout",
     "output_type": "stream",
     "text": [
      "(270000,) (30000,)\n"
     ]
    }
   ],
   "source": [
    "print(Y_train.shape, Y_test.shape)"
   ]
  },
  {
   "cell_type": "code",
   "execution_count": 9,
   "metadata": {},
   "outputs": [],
   "source": [
    "def rmse(y_pred, y_actual):\n",
    "    return np.sqrt(1/len(y_pred) * np.sum(np.square(y_actual - y_pred)))"
   ]
  },
  {
   "cell_type": "code",
   "execution_count": 10,
   "metadata": {
    "scrolled": true
   },
   "outputs": [
    {
     "data": {
      "text/plain": [
       "0.5"
      ]
     },
     "execution_count": 10,
     "metadata": {},
     "output_type": "execute_result"
    }
   ],
   "source": [
    "rmse(np.array([1,2,3,4]), np.array([1.5, 2.5, 3.5, 4.5]))"
   ]
  },
  {
   "cell_type": "code",
   "execution_count": 11,
   "metadata": {},
   "outputs": [],
   "source": [
    "from sklearn.preprocessing import StandardScaler  \n",
    "scaler = StandardScaler()\n",
    "# Don't cheat - fit only on training data\n",
    "scaler.fit(X_train)  \n",
    "X_train = scaler.transform(X_train)  \n",
    "# apply same transformation to test data\n",
    "X_test = scaler.transform(X_test)  "
   ]
  },
  {
   "cell_type": "code",
   "execution_count": 12,
   "metadata": {},
   "outputs": [
    {
     "data": {
      "text/plain": [
       "0.837701901982312"
      ]
     },
     "execution_count": 12,
     "metadata": {},
     "output_type": "execute_result"
    }
   ],
   "source": [
    "model = lgbm.LGBMRegressor(random_state=2021)\n",
    "model.fit(X_train, Y_train)\n",
    "rmse(model.predict(X_train), Y_train)"
   ]
  },
  {
   "cell_type": "code",
   "execution_count": 13,
   "metadata": {},
   "outputs": [
    {
     "data": {
      "text/plain": [
       "0.8463823591012635"
      ]
     },
     "execution_count": 13,
     "metadata": {},
     "output_type": "execute_result"
    }
   ],
   "source": [
    "test_predict = model.predict(X_test)\n",
    "rmse(test_predict, Y_test)"
   ]
  },
  {
   "cell_type": "code",
   "execution_count": null,
   "metadata": {},
   "outputs": [],
   "source": []
  }
 ],
 "metadata": {
  "kernelspec": {
   "display_name": "Python 3",
   "language": "python",
   "name": "python3"
  },
  "language_info": {
   "codemirror_mode": {
    "name": "ipython",
    "version": 3
   },
   "file_extension": ".py",
   "mimetype": "text/x-python",
   "name": "python",
   "nbconvert_exporter": "python",
   "pygments_lexer": "ipython3",
   "version": "3.7.3"
  }
 },
 "nbformat": 4,
 "nbformat_minor": 2
}
